{
 "cells": [
  {
   "cell_type": "markdown",
   "id": "f20922e6",
   "metadata": {},
   "source": [
    "# Python basics"
   ]
  },
  {
   "cell_type": "markdown",
   "id": "7e356922",
   "metadata": {},
   "source": [
    "## The for statement"
   ]
  },
  {
   "cell_type": "code",
   "execution_count": 2,
   "id": "d346ce37",
   "metadata": {},
   "outputs": [
    {
     "name": "stdout",
     "output_type": "stream",
     "text": [
      "0\n",
      "I love Python\n",
      "1\n",
      "I love Python\n",
      "2\n",
      "I love Python\n",
      "3\n",
      "I love Python\n",
      "4\n",
      "I love Python\n",
      "5\n",
      "I love Python\n"
     ]
    }
   ],
   "source": [
    "# iterate from x = 0 to x = 5\n",
    "for x in range(6):\n",
    "    print(x)\n",
    "    print('I love Python')"
   ]
  },
  {
   "cell_type": "code",
   "execution_count": 3,
   "id": "7b43e97b",
   "metadata": {},
   "outputs": [
    {
     "data": {
      "text/plain": [
       "[0, 1, 2, 3, 4, 5]"
      ]
     },
     "execution_count": 3,
     "metadata": {},
     "output_type": "execute_result"
    }
   ],
   "source": [
    "list(range(6))"
   ]
  },
  {
   "cell_type": "code",
   "execution_count": 4,
   "id": "cfd6bc8a",
   "metadata": {},
   "outputs": [
    {
     "name": "stdout",
     "output_type": "stream",
     "text": [
      "0\n",
      "I love Python\n",
      "2\n",
      "I love Python\n",
      "4\n",
      "I love Python\n"
     ]
    }
   ],
   "source": [
    "#with step 2\n",
    "for i in range(0, 6, 2):\n",
    "    print(i)\n",
    "    print('I love Python')"
   ]
  },
  {
   "cell_type": "code",
   "execution_count": 5,
   "id": "2a89fecf",
   "metadata": {},
   "outputs": [
    {
     "name": "stdout",
     "output_type": "stream",
     "text": [
      "Let's count: 0\n",
      "Let's count: 1\n",
      "Let's count: 2\n",
      "Let's count: 3\n",
      "Let's count: 4\n",
      "Let's count: 5\n"
     ]
    }
   ],
   "source": [
    "for x in range(6):\n",
    "    print(\"Let's count:\",x)"
   ]
  },
  {
   "cell_type": "code",
   "execution_count": 6,
   "id": "c8273033",
   "metadata": {},
   "outputs": [
    {
     "name": "stdout",
     "output_type": "stream",
     "text": [
      "9\n",
      "15\n",
      "27\n"
     ]
    }
   ],
   "source": [
    "# First instance of a list\n",
    "examplelist=[3,5,9]\n",
    "for i in examplelist:\n",
    "    print(i*3)"
   ]
  },
  {
   "cell_type": "markdown",
   "id": "4de4cf83",
   "metadata": {},
   "source": [
    "## The If statement"
   ]
  },
  {
   "cell_type": "code",
   "execution_count": 7,
   "id": "a89e84a6-df6f-4411-a9ef-3d5af4bd5879",
   "metadata": {},
   "outputs": [
    {
     "name": "stdout",
     "output_type": "stream",
     "text": [
      "0.14853368884417995 0.6290948742927945\n",
      "b is greater than a\n"
     ]
    }
   ],
   "source": [
    "import random as rd\n",
    "#rd.seed(10)\n",
    "a=rd.random()\n",
    "b=rd.random()\n",
    "\n",
    "print(a,b)\n",
    "\n",
    "if b > a:\n",
    "    print(\"b is greater than a\")"
   ]
  },
  {
   "cell_type": "code",
   "execution_count": 8,
   "id": "c3200617",
   "metadata": {},
   "outputs": [
    {
     "name": "stdout",
     "output_type": "stream",
     "text": [
      "0.07647978047058701 0.790498788970705\n",
      "b is greater than a\n"
     ]
    }
   ],
   "source": [
    "import random as rd\n",
    "#rd.seed(10)\n",
    "a=rd.random()\n",
    "b=rd.random()\n",
    "\n",
    "print(a,b)\n",
    "\n",
    "if b > a:\n",
    "  print(\"b is greater than a\")\n",
    "else:\n",
    "  print(\"b is not greater than a\")"
   ]
  },
  {
   "cell_type": "code",
   "execution_count": 9,
   "id": "87914a9f",
   "metadata": {},
   "outputs": [
    {
     "name": "stdout",
     "output_type": "stream",
     "text": [
      "b is greater than a\n"
     ]
    }
   ],
   "source": [
    "# Chained statements\n",
    "a = 100\n",
    "b = 200\n",
    "if b > a:\n",
    "  print(\"b is greater than a\")\n",
    "elif a == b:\n",
    "  print(\"a and b are equal\")\n",
    "else:\n",
    "  print(\"a is greater than b\")"
   ]
  },
  {
   "cell_type": "code",
   "execution_count": 10,
   "id": "69368f3d",
   "metadata": {},
   "outputs": [
    {
     "name": "stdout",
     "output_type": "stream",
     "text": [
      "a and b are equal\n"
     ]
    }
   ],
   "source": [
    "# Nested statements\n",
    "a = 200\n",
    "b = 200\n",
    "if b > a:\n",
    "  print(\"b is greater than a\")\n",
    "else: \n",
    "    if a == b:\n",
    "        print(\"a and b are equal\")\n",
    "    else:\n",
    "        print(\"a is greater than b\")"
   ]
  },
  {
   "cell_type": "code",
   "execution_count": null,
   "id": "b81800a7-998e-4c86-b20a-ff3f234b8c0c",
   "metadata": {},
   "outputs": [],
   "source": []
  }
 ],
 "metadata": {
  "kernelspec": {
   "display_name": "Python 3 (ipykernel)",
   "language": "python",
   "name": "python3"
  },
  "language_info": {
   "codemirror_mode": {
    "name": "ipython",
    "version": 3
   },
   "file_extension": ".py",
   "mimetype": "text/x-python",
   "name": "python",
   "nbconvert_exporter": "python",
   "pygments_lexer": "ipython3",
   "version": "3.11.7"
  },
  "varInspector": {
   "cols": {
    "lenName": 16,
    "lenType": 16,
    "lenVar": 40
   },
   "kernels_config": {
    "python": {
     "delete_cmd_postfix": "",
     "delete_cmd_prefix": "del ",
     "library": "var_list.py",
     "varRefreshCmd": "print(var_dic_list())"
    },
    "r": {
     "delete_cmd_postfix": ") ",
     "delete_cmd_prefix": "rm(",
     "library": "var_list.r",
     "varRefreshCmd": "cat(var_dic_list()) "
    }
   },
   "types_to_exclude": [
    "module",
    "function",
    "builtin_function_or_method",
    "instance",
    "_Feature"
   ],
   "window_display": false
  }
 },
 "nbformat": 4,
 "nbformat_minor": 5
}
