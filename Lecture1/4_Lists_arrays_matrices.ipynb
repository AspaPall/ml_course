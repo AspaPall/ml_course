{
 "cells": [
  {
   "cell_type": "markdown",
   "id": "04d9762b",
   "metadata": {},
   "source": [
    "# Lists, arrays, dataframes"
   ]
  },
  {
   "cell_type": "markdown",
   "id": "175cc401",
   "metadata": {},
   "source": [
    "## Lists"
   ]
  },
  {
   "cell_type": "markdown",
   "id": "252316d8",
   "metadata": {},
   "source": [
    "Lists are the simplest containers that are an integral part of the Python language. A single list may contain DataTypes like Integers, Strings, as well as Objects. Lists are mutable, and hence, they can be altered even after their creation."
   ]
  },
  {
   "cell_type": "code",
   "execution_count": null,
   "id": "2d25da46",
   "metadata": {},
   "outputs": [],
   "source": [
    "list1=[23.4, 20, True, 'Hello World']"
   ]
  },
  {
   "cell_type": "markdown",
   "id": "a6d590b8",
   "metadata": {},
   "source": [
    "### Accessing Lists"
   ]
  },
  {
   "cell_type": "code",
   "execution_count": null,
   "id": "03f95048",
   "metadata": {},
   "outputs": [],
   "source": [
    "list1[0]"
   ]
  },
  {
   "cell_type": "code",
   "execution_count": null,
   "id": "5f64e2d4",
   "metadata": {},
   "outputs": [],
   "source": [
    "list1[3]"
   ]
  },
  {
   "cell_type": "markdown",
   "id": "a0c92526",
   "metadata": {},
   "source": [
    "The length of the list is given by the command len()"
   ]
  },
  {
   "cell_type": "code",
   "execution_count": null,
   "id": "06196c1b",
   "metadata": {},
   "outputs": [],
   "source": [
    "len(list1)"
   ]
  },
  {
   "cell_type": "markdown",
   "id": "1ead2cf2",
   "metadata": {},
   "source": [
    "There is the typical intexation from 0 to 3 in this case. But there is also the negative indexation that goes opposite. Starting from -1 for the last list place and going downwards to -4. eg:"
   ]
  },
  {
   "cell_type": "code",
   "execution_count": null,
   "id": "32019c5e",
   "metadata": {},
   "outputs": [],
   "source": [
    "list1[-1]"
   ]
  },
  {
   "cell_type": "code",
   "execution_count": null,
   "id": "a44cf831",
   "metadata": {},
   "outputs": [],
   "source": [
    "list1[-4]"
   ]
  },
  {
   "cell_type": "markdown",
   "id": "26334220",
   "metadata": {},
   "source": [
    "### Overwritting values "
   ]
  },
  {
   "cell_type": "code",
   "execution_count": null,
   "id": "9700bee2",
   "metadata": {},
   "outputs": [],
   "source": [
    "list1"
   ]
  },
  {
   "cell_type": "code",
   "execution_count": null,
   "id": "9a6afa70",
   "metadata": {},
   "outputs": [],
   "source": [
    "list1[2]=5"
   ]
  },
  {
   "cell_type": "code",
   "execution_count": null,
   "id": "f9b13d7b",
   "metadata": {},
   "outputs": [],
   "source": [
    "list1"
   ]
  },
  {
   "cell_type": "code",
   "execution_count": null,
   "id": "c32228e4",
   "metadata": {},
   "outputs": [],
   "source": [
    "list2 = [32, True, 'Hi', 56.75]"
   ]
  },
  {
   "cell_type": "code",
   "execution_count": null,
   "id": "ad1a906b",
   "metadata": {},
   "outputs": [],
   "source": [
    "list1"
   ]
  },
  {
   "cell_type": "code",
   "execution_count": null,
   "id": "4208d3a9",
   "metadata": {},
   "outputs": [],
   "source": [
    "list2"
   ]
  },
  {
   "cell_type": "code",
   "execution_count": null,
   "id": "1e9a2cd1",
   "metadata": {},
   "outputs": [],
   "source": [
    "list2[3]=list1[0]"
   ]
  },
  {
   "cell_type": "code",
   "execution_count": null,
   "id": "c073b79f",
   "metadata": {},
   "outputs": [],
   "source": [
    "list2"
   ]
  },
  {
   "cell_type": "markdown",
   "id": "923ec127",
   "metadata": {},
   "source": [
    "### List slicing"
   ]
  },
  {
   "cell_type": "code",
   "execution_count": null,
   "id": "394c954c",
   "metadata": {},
   "outputs": [],
   "source": [
    "list3=list(range(8))"
   ]
  },
  {
   "cell_type": "code",
   "execution_count": null,
   "id": "4d814da1",
   "metadata": {},
   "outputs": [],
   "source": [
    "list3"
   ]
  },
  {
   "cell_type": "code",
   "execution_count": null,
   "id": "958819a6",
   "metadata": {},
   "outputs": [],
   "source": [
    "list3[:5]"
   ]
  },
  {
   "cell_type": "code",
   "execution_count": null,
   "id": "e469e0bb",
   "metadata": {},
   "outputs": [],
   "source": [
    "list3[1:5]"
   ]
  },
  {
   "cell_type": "code",
   "execution_count": null,
   "id": "3ebce32d",
   "metadata": {},
   "outputs": [],
   "source": [
    "list3[3:]"
   ]
  },
  {
   "cell_type": "code",
   "execution_count": null,
   "id": "31ca1f2c",
   "metadata": {},
   "outputs": [],
   "source": [
    "list3[3:-2]"
   ]
  },
  {
   "cell_type": "code",
   "execution_count": null,
   "id": "edf67e97",
   "metadata": {},
   "outputs": [],
   "source": [
    "list4=list3[:5]"
   ]
  },
  {
   "cell_type": "code",
   "execution_count": null,
   "id": "a0b16e43-387e-46b5-b942-8d8810027802",
   "metadata": {},
   "outputs": [],
   "source": [
    "list4"
   ]
  },
  {
   "cell_type": "markdown",
   "id": "63991a8e",
   "metadata": {},
   "source": [
    "### Slicing using steps"
   ]
  },
  {
   "cell_type": "code",
   "execution_count": null,
   "id": "88b9c8a7",
   "metadata": {},
   "outputs": [],
   "source": [
    "list3[1:6:2]"
   ]
  },
  {
   "cell_type": "code",
   "execution_count": null,
   "id": "9c88dc1c",
   "metadata": {},
   "outputs": [],
   "source": [
    "list3[::2]"
   ]
  },
  {
   "cell_type": "markdown",
   "id": "9352e197",
   "metadata": {},
   "source": [
    "## Arrays"
   ]
  },
  {
   "cell_type": "markdown",
   "id": "2e79dbd8",
   "metadata": {},
   "source": [
    "The difference from lists is that you can only have one type of variable inside. They have much more methods than the lists."
   ]
  },
  {
   "cell_type": "code",
   "execution_count": null,
   "id": "0d4e87a6",
   "metadata": {},
   "outputs": [],
   "source": [
    "li=[3,5,7,8]"
   ]
  },
  {
   "cell_type": "code",
   "execution_count": null,
   "id": "cd6131d3",
   "metadata": {},
   "outputs": [],
   "source": [
    "li"
   ]
  },
  {
   "cell_type": "code",
   "execution_count": null,
   "id": "59f29bd8",
   "metadata": {},
   "outputs": [],
   "source": [
    "import numpy as np"
   ]
  },
  {
   "cell_type": "code",
   "execution_count": null,
   "id": "5656ede0",
   "metadata": {},
   "outputs": [],
   "source": [
    "a = np.array(li)\n",
    "#or np.array([3,5,7,8])"
   ]
  },
  {
   "cell_type": "code",
   "execution_count": null,
   "id": "7c5b6323",
   "metadata": {},
   "outputs": [],
   "source": [
    "a"
   ]
  },
  {
   "cell_type": "markdown",
   "id": "911f8bd5",
   "metadata": {},
   "source": [
    "In case there are mixed variables in a list they transform to the same."
   ]
  },
  {
   "cell_type": "code",
   "execution_count": null,
   "id": "41973aa3",
   "metadata": {},
   "outputs": [],
   "source": [
    "list1"
   ]
  },
  {
   "cell_type": "code",
   "execution_count": null,
   "id": "8adb630a",
   "metadata": {},
   "outputs": [],
   "source": [
    "b=np.array(list1)"
   ]
  },
  {
   "cell_type": "code",
   "execution_count": null,
   "id": "c46c3cdd",
   "metadata": {},
   "outputs": [],
   "source": [
    "b"
   ]
  },
  {
   "cell_type": "markdown",
   "id": "a43d861e",
   "metadata": {},
   "source": [
    "### Much more methods included in arrays compared to lists"
   ]
  },
  {
   "cell_type": "code",
   "execution_count": null,
   "id": "5077dbc6",
   "metadata": {},
   "outputs": [],
   "source": [
    "list1.count(20)"
   ]
  },
  {
   "cell_type": "code",
   "execution_count": null,
   "id": "9120dda6",
   "metadata": {},
   "outputs": [],
   "source": [
    "list3"
   ]
  },
  {
   "cell_type": "code",
   "execution_count": null,
   "id": "8741d876",
   "metadata": {},
   "outputs": [],
   "source": [
    "c=np.array(list3)"
   ]
  },
  {
   "cell_type": "code",
   "execution_count": null,
   "id": "2f5d537d",
   "metadata": {},
   "outputs": [],
   "source": [
    "c.sum()"
   ]
  },
  {
   "cell_type": "markdown",
   "id": "8aa692d7",
   "metadata": {},
   "source": [
    "### Slicing an array"
   ]
  },
  {
   "cell_type": "markdown",
   "id": "e77f403e",
   "metadata": {},
   "source": [
    "When you slice an array you just take a part of it. If you change this part the initial array would be changed. To make a copy you need to run the copy command in numpy"
   ]
  },
  {
   "cell_type": "code",
   "execution_count": null,
   "id": "3d14b76e",
   "metadata": {},
   "outputs": [],
   "source": [
    "c"
   ]
  },
  {
   "cell_type": "code",
   "execution_count": null,
   "id": "30e48967",
   "metadata": {},
   "outputs": [],
   "source": [
    "d=c[3:5]"
   ]
  },
  {
   "cell_type": "code",
   "execution_count": null,
   "id": "9530453d",
   "metadata": {},
   "outputs": [],
   "source": [
    "d"
   ]
  },
  {
   "cell_type": "code",
   "execution_count": null,
   "id": "1fcc9b4d",
   "metadata": {},
   "outputs": [],
   "source": [
    "d[:]=44"
   ]
  },
  {
   "cell_type": "code",
   "execution_count": null,
   "id": "be8218ad",
   "metadata": {},
   "outputs": [],
   "source": [
    "d"
   ]
  },
  {
   "cell_type": "code",
   "execution_count": null,
   "id": "91e3d7db",
   "metadata": {},
   "outputs": [],
   "source": [
    "c"
   ]
  },
  {
   "cell_type": "code",
   "execution_count": null,
   "id": "e7de5853",
   "metadata": {},
   "outputs": [],
   "source": [
    "f=c.copy()"
   ]
  },
  {
   "cell_type": "code",
   "execution_count": null,
   "id": "ab314ac2",
   "metadata": {},
   "outputs": [],
   "source": [
    "f"
   ]
  },
  {
   "cell_type": "code",
   "execution_count": null,
   "id": "af0aaa1f",
   "metadata": {},
   "outputs": [],
   "source": [
    "f[3:5]=23"
   ]
  },
  {
   "cell_type": "code",
   "execution_count": null,
   "id": "d042ffa2",
   "metadata": {},
   "outputs": [],
   "source": [
    "f"
   ]
  },
  {
   "cell_type": "code",
   "execution_count": null,
   "id": "6060807c",
   "metadata": {},
   "outputs": [],
   "source": [
    "c"
   ]
  },
  {
   "cell_type": "markdown",
   "id": "8a180b01",
   "metadata": {},
   "source": [
    "## Matrices\n"
   ]
  },
  {
   "cell_type": "markdown",
   "id": "56bb4a87",
   "metadata": {},
   "source": [
    "Using the numpy arrays we can create matrices:"
   ]
  },
  {
   "cell_type": "code",
   "execution_count": null,
   "id": "034d00cd",
   "metadata": {},
   "outputs": [],
   "source": [
    "a = np.array([[1, 0],\n",
    "              [0, 1]])\n",
    "b = np.array([[4, 1],\n",
    "              [2, 2]])"
   ]
  },
  {
   "cell_type": "code",
   "execution_count": null,
   "id": "e150d35f",
   "metadata": {},
   "outputs": [],
   "source": [
    "#multipling each element of one matrix with the specific element of the other\n",
    "a*b"
   ]
  },
  {
   "cell_type": "code",
   "execution_count": null,
   "id": "29bd8913",
   "metadata": {},
   "outputs": [],
   "source": [
    "#regular matrix multiplication\n",
    "np.matmul(a,b)"
   ]
  },
  {
   "cell_type": "code",
   "execution_count": null,
   "id": "b230e068",
   "metadata": {},
   "outputs": [],
   "source": [
    "nparray =np.array(list(range(16)))"
   ]
  },
  {
   "cell_type": "code",
   "execution_count": null,
   "id": "6d63b6d8",
   "metadata": {},
   "outputs": [],
   "source": [
    "nparray"
   ]
  },
  {
   "cell_type": "code",
   "execution_count": null,
   "id": "50c5a325",
   "metadata": {},
   "outputs": [],
   "source": [
    "matrix = np.reshape(nparray, (8,2) ,order='C')\n",
    "# order='C' fills the lines firstly while order='F' the columns\n",
    "# C stands for C programming language while F for Fortran"
   ]
  },
  {
   "cell_type": "code",
   "execution_count": null,
   "id": "3d7e7719",
   "metadata": {},
   "outputs": [],
   "source": [
    "matrix"
   ]
  },
  {
   "cell_type": "code",
   "execution_count": null,
   "id": "2ddf95b0",
   "metadata": {},
   "outputs": [],
   "source": [
    "matrix[0,0]"
   ]
  },
  {
   "cell_type": "code",
   "execution_count": null,
   "id": "f18c8796",
   "metadata": {},
   "outputs": [],
   "source": [
    "matrix[7,1]"
   ]
  }
 ],
 "metadata": {
  "kernelspec": {
   "display_name": "Python 3 (ipykernel)",
   "language": "python",
   "name": "python3"
  },
  "language_info": {
   "codemirror_mode": {
    "name": "ipython",
    "version": 3
   },
   "file_extension": ".py",
   "mimetype": "text/x-python",
   "name": "python",
   "nbconvert_exporter": "python",
   "pygments_lexer": "ipython3",
   "version": "3.11.7"
  }
 },
 "nbformat": 4,
 "nbformat_minor": 5
}
