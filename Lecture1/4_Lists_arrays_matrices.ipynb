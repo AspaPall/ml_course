{
 "cells": [
  {
   "cell_type": "markdown",
   "id": "04d9762b",
   "metadata": {},
   "source": [
    "# Lists, arrays, dataframes"
   ]
  },
  {
   "cell_type": "markdown",
   "id": "175cc401",
   "metadata": {},
   "source": [
    "## Lists"
   ]
  },
  {
   "cell_type": "markdown",
   "id": "252316d8",
   "metadata": {},
   "source": [
    "Lists are the simplest containers that are an integral part of the Python language. A single list may contain DataTypes like Integers, Strings, as well as Objects. Lists are mutable, and hence, they can be altered even after their creation."
   ]
  },
  {
   "cell_type": "code",
   "execution_count": 1,
   "id": "2d25da46",
   "metadata": {},
   "outputs": [],
   "source": [
    "list1=[23.4, 20, True, 'Hello World']"
   ]
  },
  {
   "cell_type": "markdown",
   "id": "a6d590b8",
   "metadata": {},
   "source": [
    "### Accessing Lists"
   ]
  },
  {
   "cell_type": "code",
   "execution_count": 2,
   "id": "03f95048",
   "metadata": {},
   "outputs": [
    {
     "data": {
      "text/plain": [
       "23.4"
      ]
     },
     "execution_count": 2,
     "metadata": {},
     "output_type": "execute_result"
    }
   ],
   "source": [
    "list1[0]"
   ]
  },
  {
   "cell_type": "code",
   "execution_count": 3,
   "id": "5f64e2d4",
   "metadata": {},
   "outputs": [
    {
     "data": {
      "text/plain": [
       "'Hello World'"
      ]
     },
     "execution_count": 3,
     "metadata": {},
     "output_type": "execute_result"
    }
   ],
   "source": [
    "list1[3]"
   ]
  },
  {
   "cell_type": "markdown",
   "id": "a0c92526",
   "metadata": {},
   "source": [
    "The length of the list is given by the command len()"
   ]
  },
  {
   "cell_type": "code",
   "execution_count": 2,
   "id": "06196c1b",
   "metadata": {},
   "outputs": [
    {
     "data": {
      "text/plain": [
       "4"
      ]
     },
     "execution_count": 2,
     "metadata": {},
     "output_type": "execute_result"
    }
   ],
   "source": [
    "len(list1)"
   ]
  },
  {
   "cell_type": "markdown",
   "id": "1ead2cf2",
   "metadata": {},
   "source": [
    "There is the typical intexation from 0 to 3 in this case. But there is also the negative indexation that goes opposite. Starting from -1 for the last list place and going downwards to -4. eg:"
   ]
  },
  {
   "cell_type": "code",
   "execution_count": 5,
   "id": "32019c5e",
   "metadata": {},
   "outputs": [
    {
     "data": {
      "text/plain": [
       "'Hello World'"
      ]
     },
     "execution_count": 5,
     "metadata": {},
     "output_type": "execute_result"
    }
   ],
   "source": [
    "list1[-1]"
   ]
  },
  {
   "cell_type": "code",
   "execution_count": 3,
   "id": "a44cf831",
   "metadata": {},
   "outputs": [
    {
     "data": {
      "text/plain": [
       "23.4"
      ]
     },
     "execution_count": 3,
     "metadata": {},
     "output_type": "execute_result"
    }
   ],
   "source": [
    "list1[-4]"
   ]
  },
  {
   "cell_type": "markdown",
   "id": "26334220",
   "metadata": {},
   "source": [
    "### Overwritting values "
   ]
  },
  {
   "cell_type": "code",
   "execution_count": 7,
   "id": "9700bee2",
   "metadata": {},
   "outputs": [
    {
     "data": {
      "text/plain": [
       "[23.4, 20, True, 'Hello World']"
      ]
     },
     "execution_count": 7,
     "metadata": {},
     "output_type": "execute_result"
    }
   ],
   "source": [
    "list1"
   ]
  },
  {
   "cell_type": "code",
   "execution_count": 8,
   "id": "9a6afa70",
   "metadata": {},
   "outputs": [],
   "source": [
    "list1[2]=5"
   ]
  },
  {
   "cell_type": "code",
   "execution_count": 9,
   "id": "f9b13d7b",
   "metadata": {},
   "outputs": [
    {
     "data": {
      "text/plain": [
       "[23.4, 20, 5, 'Hello World']"
      ]
     },
     "execution_count": 9,
     "metadata": {},
     "output_type": "execute_result"
    }
   ],
   "source": [
    "list1"
   ]
  },
  {
   "cell_type": "code",
   "execution_count": 10,
   "id": "c32228e4",
   "metadata": {},
   "outputs": [],
   "source": [
    "list2 = [32, True, 'Hi', 56.75]"
   ]
  },
  {
   "cell_type": "code",
   "execution_count": 11,
   "id": "ad1a906b",
   "metadata": {},
   "outputs": [
    {
     "data": {
      "text/plain": [
       "[23.4, 20, 5, 'Hello World']"
      ]
     },
     "execution_count": 11,
     "metadata": {},
     "output_type": "execute_result"
    }
   ],
   "source": [
    "list1"
   ]
  },
  {
   "cell_type": "code",
   "execution_count": 12,
   "id": "4208d3a9",
   "metadata": {},
   "outputs": [
    {
     "data": {
      "text/plain": [
       "[32, True, 'Hi', 56.75]"
      ]
     },
     "execution_count": 12,
     "metadata": {},
     "output_type": "execute_result"
    }
   ],
   "source": [
    "list2"
   ]
  },
  {
   "cell_type": "code",
   "execution_count": 13,
   "id": "1e9a2cd1",
   "metadata": {},
   "outputs": [],
   "source": [
    "list2[3]=list1[0]"
   ]
  },
  {
   "cell_type": "code",
   "execution_count": 14,
   "id": "c073b79f",
   "metadata": {},
   "outputs": [
    {
     "data": {
      "text/plain": [
       "[32, True, 'Hi', 23.4]"
      ]
     },
     "execution_count": 14,
     "metadata": {},
     "output_type": "execute_result"
    }
   ],
   "source": [
    "list2"
   ]
  },
  {
   "cell_type": "markdown",
   "id": "923ec127",
   "metadata": {},
   "source": [
    "### List slicing"
   ]
  },
  {
   "cell_type": "code",
   "execution_count": 5,
   "id": "394c954c",
   "metadata": {},
   "outputs": [],
   "source": [
    "list3=list(range(8))"
   ]
  },
  {
   "cell_type": "code",
   "execution_count": 16,
   "id": "4d814da1",
   "metadata": {},
   "outputs": [
    {
     "data": {
      "text/plain": [
       "[0, 1, 2, 3, 4, 5, 6, 7]"
      ]
     },
     "execution_count": 16,
     "metadata": {},
     "output_type": "execute_result"
    }
   ],
   "source": [
    "list3"
   ]
  },
  {
   "cell_type": "code",
   "execution_count": 17,
   "id": "958819a6",
   "metadata": {},
   "outputs": [
    {
     "data": {
      "text/plain": [
       "[0, 1, 2, 3, 4]"
      ]
     },
     "execution_count": 17,
     "metadata": {},
     "output_type": "execute_result"
    }
   ],
   "source": [
    "list3[:5]"
   ]
  },
  {
   "cell_type": "code",
   "execution_count": 18,
   "id": "e469e0bb",
   "metadata": {},
   "outputs": [
    {
     "data": {
      "text/plain": [
       "[1, 2, 3, 4]"
      ]
     },
     "execution_count": 18,
     "metadata": {},
     "output_type": "execute_result"
    }
   ],
   "source": [
    "list3[1:5]"
   ]
  },
  {
   "cell_type": "code",
   "execution_count": 19,
   "id": "3ebce32d",
   "metadata": {},
   "outputs": [
    {
     "data": {
      "text/plain": [
       "[3, 4, 5, 6, 7]"
      ]
     },
     "execution_count": 19,
     "metadata": {},
     "output_type": "execute_result"
    }
   ],
   "source": [
    "list3[3:]"
   ]
  },
  {
   "cell_type": "code",
   "execution_count": 20,
   "id": "31ca1f2c",
   "metadata": {},
   "outputs": [
    {
     "data": {
      "text/plain": [
       "[3, 4, 5]"
      ]
     },
     "execution_count": 20,
     "metadata": {},
     "output_type": "execute_result"
    }
   ],
   "source": [
    "list3[3:-2]"
   ]
  },
  {
   "cell_type": "code",
   "execution_count": 21,
   "id": "edf67e97",
   "metadata": {},
   "outputs": [],
   "source": [
    "list4=list3[:5]"
   ]
  },
  {
   "cell_type": "code",
   "execution_count": 22,
   "id": "a0b16e43-387e-46b5-b942-8d8810027802",
   "metadata": {},
   "outputs": [
    {
     "data": {
      "text/plain": [
       "[0, 1, 2, 3, 4]"
      ]
     },
     "execution_count": 22,
     "metadata": {},
     "output_type": "execute_result"
    }
   ],
   "source": [
    "list4"
   ]
  },
  {
   "cell_type": "markdown",
   "id": "63991a8e",
   "metadata": {},
   "source": [
    "### Slicing using steps"
   ]
  },
  {
   "cell_type": "code",
   "execution_count": 23,
   "id": "88b9c8a7",
   "metadata": {},
   "outputs": [
    {
     "data": {
      "text/plain": [
       "[1, 3, 5]"
      ]
     },
     "execution_count": 23,
     "metadata": {},
     "output_type": "execute_result"
    }
   ],
   "source": [
    "list3[1:6:2]"
   ]
  },
  {
   "cell_type": "code",
   "execution_count": 24,
   "id": "9c88dc1c",
   "metadata": {},
   "outputs": [
    {
     "data": {
      "text/plain": [
       "[0, 2, 4, 6]"
      ]
     },
     "execution_count": 24,
     "metadata": {},
     "output_type": "execute_result"
    }
   ],
   "source": [
    "list3[::2]"
   ]
  },
  {
   "cell_type": "markdown",
   "id": "9352e197",
   "metadata": {},
   "source": [
    "## Arrays"
   ]
  },
  {
   "cell_type": "markdown",
   "id": "2e79dbd8",
   "metadata": {},
   "source": [
    "The difference from lists is that you can only have one type of variable inside. They have much more methods than the lists."
   ]
  },
  {
   "cell_type": "code",
   "execution_count": 11,
   "id": "0d4e87a6",
   "metadata": {},
   "outputs": [],
   "source": [
    "li=[3,5,7,8]"
   ]
  },
  {
   "cell_type": "code",
   "execution_count": 12,
   "id": "cd6131d3",
   "metadata": {},
   "outputs": [
    {
     "data": {
      "text/plain": [
       "[3, 5, 7, 8]"
      ]
     },
     "execution_count": 12,
     "metadata": {},
     "output_type": "execute_result"
    }
   ],
   "source": [
    "li"
   ]
  },
  {
   "cell_type": "code",
   "execution_count": 9,
   "id": "59f29bd8",
   "metadata": {},
   "outputs": [],
   "source": [
    "import numpy as np"
   ]
  },
  {
   "cell_type": "code",
   "execution_count": 13,
   "id": "5656ede0",
   "metadata": {},
   "outputs": [],
   "source": [
    "a = np.array(li)\n",
    "#or np.array([3,5,7,8])"
   ]
  },
  {
   "cell_type": "code",
   "execution_count": 29,
   "id": "7c5b6323",
   "metadata": {},
   "outputs": [
    {
     "data": {
      "text/plain": [
       "array([3, 5, 7, 8])"
      ]
     },
     "execution_count": 29,
     "metadata": {},
     "output_type": "execute_result"
    }
   ],
   "source": [
    "a"
   ]
  },
  {
   "cell_type": "markdown",
   "id": "911f8bd5",
   "metadata": {},
   "source": [
    "In case there are mixed variables in a list they transform to the same."
   ]
  },
  {
   "cell_type": "code",
   "execution_count": 14,
   "id": "41973aa3",
   "metadata": {},
   "outputs": [
    {
     "data": {
      "text/plain": [
       "[23.4, 20, True, 'Hello World']"
      ]
     },
     "execution_count": 14,
     "metadata": {},
     "output_type": "execute_result"
    }
   ],
   "source": [
    "list1"
   ]
  },
  {
   "cell_type": "code",
   "execution_count": 15,
   "id": "8adb630a",
   "metadata": {},
   "outputs": [],
   "source": [
    "b=np.array(list1)"
   ]
  },
  {
   "cell_type": "code",
   "execution_count": 16,
   "id": "c46c3cdd",
   "metadata": {},
   "outputs": [
    {
     "data": {
      "text/plain": [
       "array(['23.4', '20', 'True', 'Hello World'], dtype='<U32')"
      ]
     },
     "execution_count": 16,
     "metadata": {},
     "output_type": "execute_result"
    }
   ],
   "source": [
    "b"
   ]
  },
  {
   "cell_type": "markdown",
   "id": "a43d861e",
   "metadata": {},
   "source": [
    "### Much more methods included in arrays compared to lists"
   ]
  },
  {
   "cell_type": "code",
   "execution_count": 17,
   "id": "5077dbc6",
   "metadata": {},
   "outputs": [
    {
     "data": {
      "text/plain": [
       "1"
      ]
     },
     "execution_count": 17,
     "metadata": {},
     "output_type": "execute_result"
    }
   ],
   "source": [
    "list1.count(20)"
   ]
  },
  {
   "cell_type": "code",
   "execution_count": 19,
   "id": "9120dda6",
   "metadata": {},
   "outputs": [
    {
     "data": {
      "text/plain": [
       "[0, 1, 2, 3, 4, 5, 6, 7]"
      ]
     },
     "execution_count": 19,
     "metadata": {},
     "output_type": "execute_result"
    }
   ],
   "source": [
    "list3"
   ]
  },
  {
   "cell_type": "code",
   "execution_count": 20,
   "id": "8741d876",
   "metadata": {},
   "outputs": [],
   "source": [
    "c=np.array(list3)"
   ]
  },
  {
   "cell_type": "code",
   "execution_count": 21,
   "id": "2f5d537d",
   "metadata": {},
   "outputs": [
    {
     "data": {
      "text/plain": [
       "28"
      ]
     },
     "execution_count": 21,
     "metadata": {},
     "output_type": "execute_result"
    }
   ],
   "source": [
    "c.sum()"
   ]
  },
  {
   "cell_type": "markdown",
   "id": "8aa692d7",
   "metadata": {},
   "source": [
    "### Slicing an array"
   ]
  },
  {
   "cell_type": "markdown",
   "id": "e77f403e",
   "metadata": {},
   "source": [
    "When you slice an array you just take a part of it. If you change this part the initial array would be changed. To make a copy you need to run the copy command in numpy"
   ]
  },
  {
   "cell_type": "code",
   "execution_count": 22,
   "id": "3d14b76e",
   "metadata": {},
   "outputs": [
    {
     "data": {
      "text/plain": [
       "array([0, 1, 2, 3, 4, 5, 6, 7])"
      ]
     },
     "execution_count": 22,
     "metadata": {},
     "output_type": "execute_result"
    }
   ],
   "source": [
    "c"
   ]
  },
  {
   "cell_type": "code",
   "execution_count": 23,
   "id": "30e48967",
   "metadata": {},
   "outputs": [],
   "source": [
    "d=c[3:5]"
   ]
  },
  {
   "cell_type": "code",
   "execution_count": 24,
   "id": "9530453d",
   "metadata": {},
   "outputs": [
    {
     "data": {
      "text/plain": [
       "array([3, 4])"
      ]
     },
     "execution_count": 24,
     "metadata": {},
     "output_type": "execute_result"
    }
   ],
   "source": [
    "d"
   ]
  },
  {
   "cell_type": "code",
   "execution_count": 25,
   "id": "1fcc9b4d",
   "metadata": {},
   "outputs": [],
   "source": [
    "d[:]=44"
   ]
  },
  {
   "cell_type": "code",
   "execution_count": 26,
   "id": "be8218ad",
   "metadata": {},
   "outputs": [
    {
     "data": {
      "text/plain": [
       "array([44, 44])"
      ]
     },
     "execution_count": 26,
     "metadata": {},
     "output_type": "execute_result"
    }
   ],
   "source": [
    "d"
   ]
  },
  {
   "cell_type": "code",
   "execution_count": 27,
   "id": "91e3d7db",
   "metadata": {},
   "outputs": [
    {
     "data": {
      "text/plain": [
       "array([ 0,  1,  2, 44, 44,  5,  6,  7])"
      ]
     },
     "execution_count": 27,
     "metadata": {},
     "output_type": "execute_result"
    }
   ],
   "source": [
    "c"
   ]
  },
  {
   "cell_type": "code",
   "execution_count": 28,
   "id": "e7de5853",
   "metadata": {},
   "outputs": [],
   "source": [
    "f=c.copy()"
   ]
  },
  {
   "cell_type": "code",
   "execution_count": 29,
   "id": "ab314ac2",
   "metadata": {},
   "outputs": [
    {
     "data": {
      "text/plain": [
       "array([ 0,  1,  2, 44, 44,  5,  6,  7])"
      ]
     },
     "execution_count": 29,
     "metadata": {},
     "output_type": "execute_result"
    }
   ],
   "source": [
    "f"
   ]
  },
  {
   "cell_type": "code",
   "execution_count": 30,
   "id": "af0aaa1f",
   "metadata": {},
   "outputs": [],
   "source": [
    "f[3:5]=23"
   ]
  },
  {
   "cell_type": "code",
   "execution_count": 31,
   "id": "d042ffa2",
   "metadata": {},
   "outputs": [
    {
     "data": {
      "text/plain": [
       "array([ 0,  1,  2, 23, 23,  5,  6,  7])"
      ]
     },
     "execution_count": 31,
     "metadata": {},
     "output_type": "execute_result"
    }
   ],
   "source": [
    "f"
   ]
  },
  {
   "cell_type": "code",
   "execution_count": 32,
   "id": "6060807c",
   "metadata": {},
   "outputs": [
    {
     "data": {
      "text/plain": [
       "array([ 0,  1,  2, 44, 44,  5,  6,  7])"
      ]
     },
     "execution_count": 32,
     "metadata": {},
     "output_type": "execute_result"
    }
   ],
   "source": [
    "c"
   ]
  },
  {
   "cell_type": "markdown",
   "id": "8a180b01",
   "metadata": {},
   "source": [
    "## Matrices\n"
   ]
  },
  {
   "cell_type": "markdown",
   "id": "56bb4a87",
   "metadata": {},
   "source": [
    "Using the numpy arrays we can create matrices:"
   ]
  },
  {
   "cell_type": "code",
   "execution_count": 34,
   "id": "034d00cd",
   "metadata": {},
   "outputs": [],
   "source": [
    "a = np.array([[1, 0],\n",
    "              [0, 1]])\n",
    "b = np.array([[4, 1],\n",
    "              [2, 2]])"
   ]
  },
  {
   "cell_type": "code",
   "execution_count": 35,
   "id": "e150d35f",
   "metadata": {},
   "outputs": [
    {
     "data": {
      "text/plain": [
       "array([[4, 0],\n",
       "       [0, 2]])"
      ]
     },
     "execution_count": 35,
     "metadata": {},
     "output_type": "execute_result"
    }
   ],
   "source": [
    "#multipling each element of one matrix with the specific element of the other\n",
    "a*b"
   ]
  },
  {
   "cell_type": "code",
   "execution_count": 36,
   "id": "29bd8913",
   "metadata": {},
   "outputs": [
    {
     "data": {
      "text/plain": [
       "array([[4, 1],\n",
       "       [2, 2]])"
      ]
     },
     "execution_count": 36,
     "metadata": {},
     "output_type": "execute_result"
    }
   ],
   "source": [
    "#regular matrix multiplication\n",
    "np.matmul(a,b)"
   ]
  },
  {
   "cell_type": "code",
   "execution_count": 38,
   "id": "b230e068",
   "metadata": {},
   "outputs": [],
   "source": [
    "nparray =np.array(list(range(16)))"
   ]
  },
  {
   "cell_type": "code",
   "execution_count": 39,
   "id": "6d63b6d8",
   "metadata": {},
   "outputs": [
    {
     "data": {
      "text/plain": [
       "array([ 0,  1,  2,  3,  4,  5,  6,  7,  8,  9, 10, 11, 12, 13, 14, 15])"
      ]
     },
     "execution_count": 39,
     "metadata": {},
     "output_type": "execute_result"
    }
   ],
   "source": [
    "nparray"
   ]
  },
  {
   "cell_type": "code",
   "execution_count": 52,
   "id": "50c5a325",
   "metadata": {},
   "outputs": [],
   "source": [
    "matrix = np.reshape(nparray, (8,2) ,order='C')\n",
    "# order='C' fills the lines firstly while order='F' the columns\n",
    "# C stands for C programming language while F for Fortran"
   ]
  },
  {
   "cell_type": "code",
   "execution_count": 53,
   "id": "3d7e7719",
   "metadata": {},
   "outputs": [
    {
     "data": {
      "text/plain": [
       "array([[ 0,  1],\n",
       "       [ 2,  3],\n",
       "       [ 4,  5],\n",
       "       [ 6,  7],\n",
       "       [ 8,  9],\n",
       "       [10, 11],\n",
       "       [12, 13],\n",
       "       [14, 15]])"
      ]
     },
     "execution_count": 53,
     "metadata": {},
     "output_type": "execute_result"
    }
   ],
   "source": [
    "matrix"
   ]
  },
  {
   "cell_type": "code",
   "execution_count": 54,
   "id": "2ddf95b0",
   "metadata": {},
   "outputs": [
    {
     "data": {
      "text/plain": [
       "0"
      ]
     },
     "execution_count": 54,
     "metadata": {},
     "output_type": "execute_result"
    }
   ],
   "source": [
    "matrix[0,0]"
   ]
  },
  {
   "cell_type": "code",
   "execution_count": 55,
   "id": "f18c8796",
   "metadata": {},
   "outputs": [
    {
     "data": {
      "text/plain": [
       "15"
      ]
     },
     "execution_count": 55,
     "metadata": {},
     "output_type": "execute_result"
    }
   ],
   "source": [
    "matrix[7,1]"
   ]
  }
 ],
 "metadata": {
  "kernelspec": {
   "display_name": "Python 3 (ipykernel)",
   "language": "python",
   "name": "python3"
  },
  "language_info": {
   "codemirror_mode": {
    "name": "ipython",
    "version": 3
   },
   "file_extension": ".py",
   "mimetype": "text/x-python",
   "name": "python",
   "nbconvert_exporter": "python",
   "pygments_lexer": "ipython3",
   "version": "3.11.7"
  }
 },
 "nbformat": 4,
 "nbformat_minor": 5
}
