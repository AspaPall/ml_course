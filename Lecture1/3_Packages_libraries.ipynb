{
 "cells": [
  {
   "cell_type": "markdown",
   "id": "b1121b7d",
   "metadata": {},
   "source": [
    "# Installing and importing packages"
   ]
  },
  {
   "cell_type": "markdown",
   "id": "1f9f5843",
   "metadata": {},
   "source": [
    "## Installing packages"
   ]
  },
  {
   "cell_type": "markdown",
   "id": "b64704cb",
   "metadata": {},
   "source": [
    "Typically in order to install a package you need to type in :\n",
    "\n",
    "!conda install packagename\n",
    "\n",
    "or:\n",
    "\n",
    "!pip install packagename\n",
    "\n",
    "Directly from jupyter notebook selecting the Code filed from the dropdown menu. A good idea is firstly to go directly to the manual of the package and find exactly how to do it in order not to have problems. It would be better to try install it using conda environment, if not possible then switch to pip.\n",
    "\n",
    "An alternative (recommended) is to do it through anaconda prompt following the same steps as above. (In that case you have to omit !)"
   ]
  },
  {
   "cell_type": "markdown",
   "id": "9d911751",
   "metadata": {},
   "source": [
    "## Importing packages"
   ]
  },
  {
   "cell_type": "markdown",
   "id": "4177393e",
   "metadata": {},
   "source": [
    "import packagename as shortnameofthepackage\n",
    "\n",
    "e.g.:"
   ]
  },
  {
   "cell_type": "code",
   "execution_count": 1,
   "id": "4b32a724",
   "metadata": {},
   "outputs": [],
   "source": [
    "import sklearn as skl"
   ]
  },
  {
   "cell_type": "markdown",
   "id": "e0a64ae3",
   "metadata": {},
   "source": [
    "In case you need function or classes from specific library you need to specify them"
   ]
  },
  {
   "cell_type": "code",
   "execution_count": 2,
   "id": "0e993904",
   "metadata": {},
   "outputs": [],
   "source": [
    "from sklearn.svm import SVC"
   ]
  },
  {
   "cell_type": "code",
   "execution_count": 3,
   "id": "ce006947-a54b-4a86-b24d-8fcfa472810f",
   "metadata": {},
   "outputs": [],
   "source": [
    "# Using Shift+Tab you can have info of the input or properties of a package function"
   ]
  },
  {
   "cell_type": "code",
   "execution_count": 4,
   "id": "0e451b46",
   "metadata": {},
   "outputs": [],
   "source": [
    "#SVC."
   ]
  }
 ],
 "metadata": {
  "kernelspec": {
   "display_name": "Python 3 (ipykernel)",
   "language": "python",
   "name": "python3"
  },
  "language_info": {
   "codemirror_mode": {
    "name": "ipython",
    "version": 3
   },
   "file_extension": ".py",
   "mimetype": "text/x-python",
   "name": "python",
   "nbconvert_exporter": "python",
   "pygments_lexer": "ipython3",
   "version": "3.11.7"
  },
  "varInspector": {
   "cols": {
    "lenName": 16,
    "lenType": 16,
    "lenVar": 40
   },
   "kernels_config": {
    "python": {
     "delete_cmd_postfix": "",
     "delete_cmd_prefix": "del ",
     "library": "var_list.py",
     "varRefreshCmd": "print(var_dic_list())"
    },
    "r": {
     "delete_cmd_postfix": ") ",
     "delete_cmd_prefix": "rm(",
     "library": "var_list.r",
     "varRefreshCmd": "cat(var_dic_list()) "
    }
   },
   "types_to_exclude": [
    "module",
    "function",
    "builtin_function_or_method",
    "instance",
    "_Feature"
   ],
   "window_display": false
  }
 },
 "nbformat": 4,
 "nbformat_minor": 5
}
