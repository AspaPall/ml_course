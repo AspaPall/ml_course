{
 "cells": [
  {
   "cell_type": "markdown",
   "id": "964d0897",
   "metadata": {},
   "source": [
    "# Python basics"
   ]
  },
  {
   "cell_type": "markdown",
   "id": "b68724e3",
   "metadata": {},
   "source": [
    "## Variables and Operators\n",
    "\n",
    "### Main Variable Types\n",
    "\n",
    "All headlines and comments are written in markdown.\n",
    "Basic markdown syntax:  \n",
    "https://www.markdownguide.org/basic-syntax/"
   ]
  },
  {
   "cell_type": "markdown",
   "id": "2e564022",
   "metadata": {},
   "source": [
    "### Integers"
   ]
  },
  {
   "cell_type": "code",
   "execution_count": 1,
   "id": "48313db6",
   "metadata": {},
   "outputs": [],
   "source": [
    "#Define it like this:\n",
    "x = 1"
   ]
  },
  {
   "cell_type": "code",
   "execution_count": 2,
   "id": "680c8271",
   "metadata": {},
   "outputs": [
    {
     "data": {
      "text/plain": [
       "int"
      ]
     },
     "execution_count": 2,
     "metadata": {},
     "output_type": "execute_result"
    }
   ],
   "source": [
    "#See the type \n",
    "type(x)"
   ]
  },
  {
   "cell_type": "markdown",
   "id": "5feeccb7",
   "metadata": {},
   "source": [
    "### Floats"
   ]
  },
  {
   "cell_type": "code",
   "execution_count": 3,
   "id": "ce394ff5",
   "metadata": {},
   "outputs": [
    {
     "data": {
      "text/plain": [
       "float"
      ]
     },
     "execution_count": 3,
     "metadata": {},
     "output_type": "execute_result"
    }
   ],
   "source": [
    "y = 3.5\n",
    "type(y)"
   ]
  },
  {
   "cell_type": "markdown",
   "id": "da63c477",
   "metadata": {},
   "source": [
    "### Character"
   ]
  },
  {
   "cell_type": "code",
   "execution_count": 1,
   "id": "e7e25763",
   "metadata": {},
   "outputs": [],
   "source": [
    "# You need to write a character string between \"\" or ''\n",
    "z=\"test\"\n",
    "f='1234'"
   ]
  },
  {
   "cell_type": "code",
   "execution_count": 2,
   "id": "775ab667",
   "metadata": {},
   "outputs": [
    {
     "data": {
      "text/plain": [
       "'test'"
      ]
     },
     "execution_count": 2,
     "metadata": {},
     "output_type": "execute_result"
    }
   ],
   "source": [
    "z\n"
   ]
  },
  {
   "cell_type": "code",
   "execution_count": 3,
   "id": "65765872",
   "metadata": {},
   "outputs": [
    {
     "data": {
      "text/plain": [
       "'1234'"
      ]
     },
     "execution_count": 3,
     "metadata": {},
     "output_type": "execute_result"
    }
   ],
   "source": [
    "f"
   ]
  },
  {
   "cell_type": "code",
   "execution_count": 4,
   "id": "4a4116cf",
   "metadata": {},
   "outputs": [
    {
     "data": {
      "text/plain": [
       "str"
      ]
     },
     "execution_count": 4,
     "metadata": {},
     "output_type": "execute_result"
    }
   ],
   "source": [
    "type(f)"
   ]
  },
  {
   "cell_type": "markdown",
   "id": "dfefabb4",
   "metadata": {},
   "source": [
    "### Booleans (True or False)"
   ]
  },
  {
   "cell_type": "code",
   "execution_count": 6,
   "id": "f7ae4518",
   "metadata": {},
   "outputs": [],
   "source": [
    "w = True"
   ]
  },
  {
   "cell_type": "code",
   "execution_count": 9,
   "id": "caa5ad94",
   "metadata": {},
   "outputs": [
    {
     "data": {
      "text/plain": [
       "True"
      ]
     },
     "execution_count": 9,
     "metadata": {},
     "output_type": "execute_result"
    }
   ],
   "source": [
    "w"
   ]
  },
  {
   "cell_type": "code",
   "execution_count": 7,
   "id": "682933e6",
   "metadata": {},
   "outputs": [
    {
     "data": {
      "text/plain": [
       "bool"
      ]
     },
     "execution_count": 7,
     "metadata": {},
     "output_type": "execute_result"
    }
   ],
   "source": [
    "type(w)"
   ]
  },
  {
   "cell_type": "markdown",
   "id": "d39ae397-6ab2-499b-901d-fb3e38368caa",
   "metadata": {},
   "source": [
    "### Initilize more than one variable in one line"
   ]
  },
  {
   "cell_type": "code",
   "execution_count": 1,
   "id": "b4e3fb3c-f1e4-496e-979a-2c1c5dfde85d",
   "metadata": {},
   "outputs": [],
   "source": [
    "a, b, c, d = 4, \"python\", 3.14, True"
   ]
  },
  {
   "cell_type": "code",
   "execution_count": 4,
   "id": "c1d6f035-75d7-44dd-a207-e426d063c466",
   "metadata": {},
   "outputs": [
    {
     "name": "stdout",
     "output_type": "stream",
     "text": [
      "4 python 3.14 True\n"
     ]
    }
   ],
   "source": [
    "print(a,b,c,d)"
   ]
  },
  {
   "cell_type": "markdown",
   "id": "ba05932f",
   "metadata": {},
   "source": [
    "## Variable usage with operators"
   ]
  },
  {
   "cell_type": "code",
   "execution_count": 9,
   "id": "1f854d04",
   "metadata": {},
   "outputs": [],
   "source": [
    "A=11"
   ]
  },
  {
   "cell_type": "code",
   "execution_count": 10,
   "id": "462e25a3",
   "metadata": {},
   "outputs": [],
   "source": [
    "B=2"
   ]
  },
  {
   "cell_type": "markdown",
   "id": "b706b49f",
   "metadata": {},
   "source": [
    "### Basic Arithmetic operators\n",
    "\n",
    "  \\+  Addition\n",
    " \n",
    "  \\-  Subtraction \n",
    " \n",
    "  \\/  Division\n",
    " \n",
    "  \\*  Multiplication\n",
    " \n",
    "  \\%  Modulus\n",
    " \n",
    " \\*\\* Exponentiation \n",
    " \n",
    " \\/\\/ Floor Division\n"
   ]
  },
  {
   "cell_type": "code",
   "execution_count": 11,
   "id": "18c9d2d7",
   "metadata": {},
   "outputs": [],
   "source": [
    "C=A*B"
   ]
  },
  {
   "cell_type": "code",
   "execution_count": 12,
   "id": "a0489983",
   "metadata": {},
   "outputs": [
    {
     "data": {
      "text/plain": [
       "22"
      ]
     },
     "execution_count": 12,
     "metadata": {},
     "output_type": "execute_result"
    }
   ],
   "source": [
    "C"
   ]
  },
  {
   "cell_type": "code",
   "execution_count": 13,
   "id": "1b488f32",
   "metadata": {},
   "outputs": [],
   "source": [
    "D=A%B"
   ]
  },
  {
   "cell_type": "code",
   "execution_count": 14,
   "id": "9f1552b7",
   "metadata": {},
   "outputs": [
    {
     "data": {
      "text/plain": [
       "1"
      ]
     },
     "execution_count": 14,
     "metadata": {},
     "output_type": "execute_result"
    }
   ],
   "source": [
    "D"
   ]
  },
  {
   "cell_type": "code",
   "execution_count": 15,
   "id": "422af39c",
   "metadata": {},
   "outputs": [
    {
     "name": "stdout",
     "output_type": "stream",
     "text": [
      "1\n"
     ]
    }
   ],
   "source": [
    "#Or\n",
    "print(D)"
   ]
  },
  {
   "cell_type": "code",
   "execution_count": 16,
   "id": "654eeabb-1c15-47fe-9b6c-2330395d326f",
   "metadata": {},
   "outputs": [
    {
     "data": {
      "text/plain": [
       "5"
      ]
     },
     "execution_count": 16,
     "metadata": {},
     "output_type": "execute_result"
    }
   ],
   "source": [
    "A//B"
   ]
  },
  {
   "cell_type": "code",
   "execution_count": 17,
   "id": "8b2990c0-0d8f-4e01-bfe3-d1331336d58e",
   "metadata": {},
   "outputs": [
    {
     "data": {
      "text/plain": [
       "5.5"
      ]
     },
     "execution_count": 17,
     "metadata": {},
     "output_type": "execute_result"
    }
   ],
   "source": [
    "A/B"
   ]
  },
  {
   "cell_type": "code",
   "execution_count": 18,
   "id": "eac9792f-e1dd-4d34-83c7-a42ef82d4b8d",
   "metadata": {},
   "outputs": [
    {
     "data": {
      "text/plain": [
       "float"
      ]
     },
     "execution_count": 18,
     "metadata": {},
     "output_type": "execute_result"
    }
   ],
   "source": [
    "type(A/B)"
   ]
  },
  {
   "cell_type": "markdown",
   "id": "ac154a90",
   "metadata": {},
   "source": [
    "### Calling basic functions"
   ]
  },
  {
   "cell_type": "markdown",
   "id": "ebe47e4a-5e40-4366-8759-19bae10124fb",
   "metadata": {},
   "source": [
    "The build in functions: https://docs.python.org/3/library/functions.html"
   ]
  },
  {
   "cell_type": "code",
   "execution_count": 20,
   "id": "faa6f896",
   "metadata": {},
   "outputs": [
    {
     "data": {
      "text/plain": [
       "5.5"
      ]
     },
     "execution_count": 20,
     "metadata": {},
     "output_type": "execute_result"
    }
   ],
   "source": [
    "abs(5.5)"
   ]
  },
  {
   "cell_type": "markdown",
   "id": "1a5635cb",
   "metadata": {},
   "source": [
    "### Calling installed base libraries"
   ]
  },
  {
   "cell_type": "markdown",
   "id": "16c1b139-89c4-42e6-9dc4-f95ca92a9e22",
   "metadata": {},
   "source": [
    "https://docs.python.org/3/library/index.html"
   ]
  },
  {
   "cell_type": "code",
   "execution_count": 24,
   "id": "150795ea",
   "metadata": {},
   "outputs": [
    {
     "data": {
      "text/plain": [
       "2.0"
      ]
     },
     "execution_count": 24,
     "metadata": {},
     "output_type": "execute_result"
    }
   ],
   "source": [
    "#import math\n",
    "math.sqrt(100)\n",
    "\n",
    "\n",
    "#import math as m\n",
    "#m.log10(100)"
   ]
  },
  {
   "cell_type": "code",
   "execution_count": 22,
   "id": "0ddb1b88",
   "metadata": {},
   "outputs": [],
   "source": [
    "import cmath as cma\n",
    "\n",
    "# Initializing real numbers\n",
    "x = 1.0\n",
    "y = 1.0\n",
    "\n",
    "# converting x and y into complex number\n",
    "z = complex(x, y)"
   ]
  },
  {
   "cell_type": "code",
   "execution_count": 23,
   "id": "677d467b",
   "metadata": {},
   "outputs": [
    {
     "data": {
      "text/plain": [
       "0.7853981633974483"
      ]
     },
     "execution_count": 23,
     "metadata": {},
     "output_type": "execute_result"
    }
   ],
   "source": [
    "cma.phase(z)"
   ]
  },
  {
   "cell_type": "code",
   "execution_count": 24,
   "id": "da6ba65a",
   "metadata": {},
   "outputs": [
    {
     "data": {
      "text/plain": [
       "0.7853981633974483"
      ]
     },
     "execution_count": 24,
     "metadata": {},
     "output_type": "execute_result"
    }
   ],
   "source": [
    "#Calling pi form the math libr\n",
    "math.pi/4"
   ]
  },
  {
   "cell_type": "code",
   "execution_count": 25,
   "id": "023b560a",
   "metadata": {},
   "outputs": [],
   "source": [
    "# Using strings\n",
    "\n",
    "a='My name is'\n",
    "b='Thodoros'"
   ]
  },
  {
   "cell_type": "code",
   "execution_count": 26,
   "id": "86610c1f",
   "metadata": {},
   "outputs": [],
   "source": [
    "c=a + \" \" + b"
   ]
  },
  {
   "cell_type": "code",
   "execution_count": 27,
   "id": "49b3a0a2",
   "metadata": {},
   "outputs": [
    {
     "data": {
      "text/plain": [
       "'My name is Thodoros'"
      ]
     },
     "execution_count": 27,
     "metadata": {},
     "output_type": "execute_result"
    }
   ],
   "source": [
    "c"
   ]
  },
  {
   "cell_type": "markdown",
   "id": "9269ef93",
   "metadata": {},
   "source": [
    "## Operators with Boolean"
   ]
  },
  {
   "cell_type": "markdown",
   "id": "14078471",
   "metadata": {},
   "source": [
    "== \tEqual to\n",
    "\n",
    "\\!= Not equal to\n",
    "\n",
    "\\< \tLess than\n",
    "\n",
    "\\> \tGreater than\n",
    "\n",
    "\\<= \tLess than or equal to\n",
    "\n",
    "\\>= \tGreater than or equal to"
   ]
  },
  {
   "cell_type": "code",
   "execution_count": 28,
   "id": "ba028ddc",
   "metadata": {},
   "outputs": [
    {
     "data": {
      "text/plain": [
       "True"
      ]
     },
     "execution_count": 28,
     "metadata": {},
     "output_type": "execute_result"
    }
   ],
   "source": [
    "5>4"
   ]
  },
  {
   "cell_type": "code",
   "execution_count": 29,
   "id": "beee65a2",
   "metadata": {},
   "outputs": [
    {
     "data": {
      "text/plain": [
       "False"
      ]
     },
     "execution_count": 29,
     "metadata": {},
     "output_type": "execute_result"
    }
   ],
   "source": [
    "3==4"
   ]
  },
  {
   "cell_type": "code",
   "execution_count": 30,
   "id": "09d26bca",
   "metadata": {},
   "outputs": [
    {
     "data": {
      "text/plain": [
       "False"
      ]
     },
     "execution_count": 30,
     "metadata": {},
     "output_type": "execute_result"
    }
   ],
   "source": [
    "5<=3"
   ]
  },
  {
   "cell_type": "code",
   "execution_count": 31,
   "id": "b58447ff",
   "metadata": {},
   "outputs": [],
   "source": [
    "a=6<5"
   ]
  },
  {
   "cell_type": "code",
   "execution_count": 32,
   "id": "af52ee48",
   "metadata": {},
   "outputs": [
    {
     "data": {
      "text/plain": [
       "False"
      ]
     },
     "execution_count": 32,
     "metadata": {},
     "output_type": "execute_result"
    }
   ],
   "source": [
    "a"
   ]
  },
  {
   "cell_type": "code",
   "execution_count": 33,
   "id": "c990ad57",
   "metadata": {},
   "outputs": [],
   "source": [
    "b=6>5"
   ]
  },
  {
   "cell_type": "code",
   "execution_count": 34,
   "id": "03766c1c",
   "metadata": {},
   "outputs": [
    {
     "data": {
      "text/plain": [
       "True"
      ]
     },
     "execution_count": 34,
     "metadata": {},
     "output_type": "execute_result"
    }
   ],
   "source": [
    "b"
   ]
  }
 ],
 "metadata": {
  "kernelspec": {
   "display_name": "Python 3 (ipykernel)",
   "language": "python",
   "name": "python3"
  },
  "language_info": {
   "codemirror_mode": {
    "name": "ipython",
    "version": 3
   },
   "file_extension": ".py",
   "mimetype": "text/x-python",
   "name": "python",
   "nbconvert_exporter": "python",
   "pygments_lexer": "ipython3",
   "version": "3.11.7"
  }
 },
 "nbformat": 4,
 "nbformat_minor": 5
}
