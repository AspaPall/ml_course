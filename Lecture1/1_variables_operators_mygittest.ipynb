{
  "cells": [
    {
      "cell_type": "markdown",
      "metadata": {
        "id": "view-in-github",
        "colab_type": "text"
      },
      "source": [
        "<a href=\"https://colab.research.google.com/github/AspaPall/ml_course/blob/main/Lecture1/1_variables_operators_mygittest.ipynb\" target=\"_parent\"><img src=\"https://colab.research.google.com/assets/colab-badge.svg\" alt=\"Open In Colab\"/></a>"
      ]
    },
    {
      "cell_type": "markdown",
      "id": "964d0897",
      "metadata": {
        "id": "964d0897"
      },
      "source": [
        "# Python basics"
      ]
    },
    {
      "cell_type": "markdown",
      "id": "b68724e3",
      "metadata": {
        "id": "b68724e3"
      },
      "source": [
        "## Variables and Operators\n",
        "\n",
        "### Main Variable Types\n",
        "\n",
        "All headlines and comments are written in markdown.\n",
        "Basic markdown syntax:  \n",
        "https://www.markdownguide.org/basic-syntax/"
      ]
    },
    {
      "cell_type": "markdown",
      "id": "2e564022",
      "metadata": {
        "id": "2e564022"
      },
      "source": [
        "### Integers"
      ]
    },
    {
      "cell_type": "code",
      "execution_count": null,
      "id": "48313db6",
      "metadata": {
        "id": "48313db6"
      },
      "outputs": [],
      "source": [
        "#Define it like this:\n",
        "x = 8"
      ]
    },
    {
      "cell_type": "code",
      "execution_count": null,
      "id": "680c8271",
      "metadata": {
        "id": "680c8271",
        "outputId": "eee69790-532d-45d7-b0b0-ca5bbe9b5ba9"
      },
      "outputs": [
        {
          "data": {
            "text/plain": [
              "int"
            ]
          },
          "execution_count": 2,
          "metadata": {},
          "output_type": "execute_result"
        }
      ],
      "source": [
        "#See the type\n",
        "type(x)"
      ]
    },
    {
      "cell_type": "markdown",
      "id": "5feeccb7",
      "metadata": {
        "id": "5feeccb7"
      },
      "source": [
        "### Floats"
      ]
    },
    {
      "cell_type": "code",
      "execution_count": null,
      "id": "ce394ff5",
      "metadata": {
        "id": "ce394ff5",
        "outputId": "28693bbe-4b62-408c-803f-e76797826a60"
      },
      "outputs": [
        {
          "data": {
            "text/plain": [
              "float"
            ]
          },
          "execution_count": 3,
          "metadata": {},
          "output_type": "execute_result"
        }
      ],
      "source": [
        "y = 3.5\n",
        "type(y)"
      ]
    },
    {
      "cell_type": "markdown",
      "id": "da63c477",
      "metadata": {
        "id": "da63c477"
      },
      "source": [
        "### Character"
      ]
    },
    {
      "cell_type": "code",
      "execution_count": null,
      "id": "e7e25763",
      "metadata": {
        "id": "e7e25763"
      },
      "outputs": [],
      "source": [
        "# You need to write a character string between \"\" or ''\n",
        "z=\"mygittest\"\n",
        "f='1234'"
      ]
    },
    {
      "cell_type": "code",
      "execution_count": null,
      "id": "775ab667",
      "metadata": {
        "id": "775ab667",
        "outputId": "e9c5176e-5d95-4bf5-b41b-d0db35cb9a4d"
      },
      "outputs": [
        {
          "data": {
            "text/plain": [
              "'test'"
            ]
          },
          "execution_count": 2,
          "metadata": {},
          "output_type": "execute_result"
        }
      ],
      "source": [
        "z\n"
      ]
    },
    {
      "cell_type": "code",
      "execution_count": null,
      "id": "65765872",
      "metadata": {
        "id": "65765872",
        "outputId": "5639960b-04ae-4461-8e1e-688fe3379583"
      },
      "outputs": [
        {
          "data": {
            "text/plain": [
              "'1234'"
            ]
          },
          "execution_count": 3,
          "metadata": {},
          "output_type": "execute_result"
        }
      ],
      "source": [
        "f"
      ]
    },
    {
      "cell_type": "code",
      "execution_count": null,
      "id": "4a4116cf",
      "metadata": {
        "id": "4a4116cf",
        "outputId": "0cfefa35-8d69-42fc-dc7f-91d6226cb54b"
      },
      "outputs": [
        {
          "data": {
            "text/plain": [
              "str"
            ]
          },
          "execution_count": 4,
          "metadata": {},
          "output_type": "execute_result"
        }
      ],
      "source": [
        "type(f)"
      ]
    },
    {
      "cell_type": "markdown",
      "id": "dfefabb4",
      "metadata": {
        "id": "dfefabb4"
      },
      "source": [
        "### Booleans (True or False)"
      ]
    },
    {
      "cell_type": "code",
      "execution_count": null,
      "id": "f7ae4518",
      "metadata": {
        "id": "f7ae4518"
      },
      "outputs": [],
      "source": [
        "w = True"
      ]
    },
    {
      "cell_type": "code",
      "execution_count": null,
      "id": "caa5ad94",
      "metadata": {
        "id": "caa5ad94",
        "outputId": "0f6b2fb6-799e-4041-c05b-77acba066381"
      },
      "outputs": [
        {
          "data": {
            "text/plain": [
              "True"
            ]
          },
          "execution_count": 9,
          "metadata": {},
          "output_type": "execute_result"
        }
      ],
      "source": [
        "w"
      ]
    },
    {
      "cell_type": "code",
      "execution_count": null,
      "id": "682933e6",
      "metadata": {
        "id": "682933e6",
        "outputId": "b08786a6-c67a-4611-f98e-5a7cef0e7015"
      },
      "outputs": [
        {
          "data": {
            "text/plain": [
              "bool"
            ]
          },
          "execution_count": 7,
          "metadata": {},
          "output_type": "execute_result"
        }
      ],
      "source": [
        "type(w)"
      ]
    },
    {
      "cell_type": "markdown",
      "id": "d39ae397-6ab2-499b-901d-fb3e38368caa",
      "metadata": {
        "id": "d39ae397-6ab2-499b-901d-fb3e38368caa"
      },
      "source": [
        "### Initilize more than one variable in one line"
      ]
    },
    {
      "cell_type": "code",
      "execution_count": null,
      "id": "b4e3fb3c-f1e4-496e-979a-2c1c5dfde85d",
      "metadata": {
        "id": "b4e3fb3c-f1e4-496e-979a-2c1c5dfde85d"
      },
      "outputs": [],
      "source": [
        "a, b, c, d = 4, \"python\", 3.14, True"
      ]
    },
    {
      "cell_type": "code",
      "execution_count": null,
      "id": "c1d6f035-75d7-44dd-a207-e426d063c466",
      "metadata": {
        "id": "c1d6f035-75d7-44dd-a207-e426d063c466",
        "outputId": "16d547ef-0245-42c1-c25d-c509090a93e3"
      },
      "outputs": [
        {
          "name": "stdout",
          "output_type": "stream",
          "text": [
            "4 python 3.14 True\n"
          ]
        }
      ],
      "source": [
        "print(a,b,c,d)"
      ]
    },
    {
      "cell_type": "markdown",
      "id": "ba05932f",
      "metadata": {
        "id": "ba05932f"
      },
      "source": [
        "## Variable usage with operators"
      ]
    },
    {
      "cell_type": "code",
      "execution_count": null,
      "id": "1f854d04",
      "metadata": {
        "id": "1f854d04"
      },
      "outputs": [],
      "source": [
        "A=11"
      ]
    },
    {
      "cell_type": "code",
      "execution_count": null,
      "id": "462e25a3",
      "metadata": {
        "id": "462e25a3"
      },
      "outputs": [],
      "source": [
        "B=2"
      ]
    },
    {
      "cell_type": "markdown",
      "id": "b706b49f",
      "metadata": {
        "id": "b706b49f"
      },
      "source": [
        "### Basic Arithmetic operators\n",
        "\n",
        "  \\+  Addition\n",
        "\n",
        "  \\-  Subtraction\n",
        "\n",
        "  \\/  Division\n",
        "\n",
        "  \\*  Multiplication\n",
        "\n",
        "  \\%  Modulus\n",
        "\n",
        " \\*\\* Exponentiation\n",
        "\n",
        " \\/\\/ Floor Division\n"
      ]
    },
    {
      "cell_type": "code",
      "execution_count": null,
      "id": "18c9d2d7",
      "metadata": {
        "id": "18c9d2d7"
      },
      "outputs": [],
      "source": [
        "C=A*B"
      ]
    },
    {
      "cell_type": "code",
      "execution_count": null,
      "id": "a0489983",
      "metadata": {
        "id": "a0489983",
        "outputId": "5a076a25-5b6d-4274-c605-6bafec4efd81"
      },
      "outputs": [
        {
          "data": {
            "text/plain": [
              "22"
            ]
          },
          "execution_count": 12,
          "metadata": {},
          "output_type": "execute_result"
        }
      ],
      "source": [
        "C"
      ]
    },
    {
      "cell_type": "code",
      "execution_count": null,
      "id": "1b488f32",
      "metadata": {
        "id": "1b488f32"
      },
      "outputs": [],
      "source": [
        "D=A%B"
      ]
    },
    {
      "cell_type": "code",
      "execution_count": null,
      "id": "9f1552b7",
      "metadata": {
        "id": "9f1552b7",
        "outputId": "5503b7c4-99ae-4a10-da09-8b9ec9cb2a12"
      },
      "outputs": [
        {
          "data": {
            "text/plain": [
              "1"
            ]
          },
          "execution_count": 14,
          "metadata": {},
          "output_type": "execute_result"
        }
      ],
      "source": [
        "D"
      ]
    },
    {
      "cell_type": "code",
      "execution_count": null,
      "id": "422af39c",
      "metadata": {
        "id": "422af39c",
        "outputId": "008c0e66-da96-4e79-d254-f605dae3ea17"
      },
      "outputs": [
        {
          "name": "stdout",
          "output_type": "stream",
          "text": [
            "1\n"
          ]
        }
      ],
      "source": [
        "#Or\n",
        "print(D)"
      ]
    },
    {
      "cell_type": "code",
      "execution_count": null,
      "id": "654eeabb-1c15-47fe-9b6c-2330395d326f",
      "metadata": {
        "id": "654eeabb-1c15-47fe-9b6c-2330395d326f",
        "outputId": "63399bfc-9130-4cf0-f4ce-b63c6a9134a9"
      },
      "outputs": [
        {
          "data": {
            "text/plain": [
              "5"
            ]
          },
          "execution_count": 16,
          "metadata": {},
          "output_type": "execute_result"
        }
      ],
      "source": [
        "A//B"
      ]
    },
    {
      "cell_type": "code",
      "execution_count": null,
      "id": "8b2990c0-0d8f-4e01-bfe3-d1331336d58e",
      "metadata": {
        "id": "8b2990c0-0d8f-4e01-bfe3-d1331336d58e",
        "outputId": "ad53783d-8386-4e58-803b-35ae5b05815f"
      },
      "outputs": [
        {
          "data": {
            "text/plain": [
              "5.5"
            ]
          },
          "execution_count": 17,
          "metadata": {},
          "output_type": "execute_result"
        }
      ],
      "source": [
        "A/B"
      ]
    },
    {
      "cell_type": "code",
      "execution_count": null,
      "id": "eac9792f-e1dd-4d34-83c7-a42ef82d4b8d",
      "metadata": {
        "id": "eac9792f-e1dd-4d34-83c7-a42ef82d4b8d",
        "outputId": "6726fb62-78f1-4773-ab14-23efbb1e45b3"
      },
      "outputs": [
        {
          "data": {
            "text/plain": [
              "float"
            ]
          },
          "execution_count": 18,
          "metadata": {},
          "output_type": "execute_result"
        }
      ],
      "source": [
        "type(A/B)"
      ]
    },
    {
      "cell_type": "markdown",
      "id": "ac154a90",
      "metadata": {
        "id": "ac154a90"
      },
      "source": [
        "### Calling basic functions"
      ]
    },
    {
      "cell_type": "markdown",
      "id": "ebe47e4a-5e40-4366-8759-19bae10124fb",
      "metadata": {
        "id": "ebe47e4a-5e40-4366-8759-19bae10124fb"
      },
      "source": [
        "The build in functions: https://docs.python.org/3/library/functions.html"
      ]
    },
    {
      "cell_type": "code",
      "execution_count": null,
      "id": "faa6f896",
      "metadata": {
        "id": "faa6f896",
        "outputId": "5b17baf0-9325-4431-b7ca-c5af6fb93182"
      },
      "outputs": [
        {
          "data": {
            "text/plain": [
              "5.5"
            ]
          },
          "execution_count": 20,
          "metadata": {},
          "output_type": "execute_result"
        }
      ],
      "source": [
        "abs(5.5)"
      ]
    },
    {
      "cell_type": "markdown",
      "id": "1a5635cb",
      "metadata": {
        "id": "1a5635cb"
      },
      "source": [
        "### Calling installed base libraries"
      ]
    },
    {
      "cell_type": "markdown",
      "id": "16c1b139-89c4-42e6-9dc4-f95ca92a9e22",
      "metadata": {
        "id": "16c1b139-89c4-42e6-9dc4-f95ca92a9e22"
      },
      "source": [
        "https://docs.python.org/3/library/index.html"
      ]
    },
    {
      "cell_type": "code",
      "execution_count": null,
      "id": "150795ea",
      "metadata": {
        "id": "150795ea",
        "outputId": "6e43502d-602e-4301-f105-f6b6087642a3"
      },
      "outputs": [
        {
          "data": {
            "text/plain": [
              "2.0"
            ]
          },
          "execution_count": 24,
          "metadata": {},
          "output_type": "execute_result"
        }
      ],
      "source": [
        "#import math\n",
        "math.sqrt(100)\n",
        "\n",
        "\n",
        "#import math as m\n",
        "#m.log10(100)"
      ]
    },
    {
      "cell_type": "code",
      "execution_count": null,
      "id": "0ddb1b88",
      "metadata": {
        "id": "0ddb1b88"
      },
      "outputs": [],
      "source": [
        "import cmath as cma\n",
        "\n",
        "# Initializing real numbers\n",
        "x = 1.0\n",
        "y = 1.0\n",
        "\n",
        "# converting x and y into complex number\n",
        "z = complex(x, y)"
      ]
    },
    {
      "cell_type": "code",
      "execution_count": null,
      "id": "677d467b",
      "metadata": {
        "id": "677d467b",
        "outputId": "0dbab300-5015-4602-8dc4-a48d3c96dc70"
      },
      "outputs": [
        {
          "data": {
            "text/plain": [
              "0.7853981633974483"
            ]
          },
          "execution_count": 23,
          "metadata": {},
          "output_type": "execute_result"
        }
      ],
      "source": [
        "cma.phase(z)"
      ]
    },
    {
      "cell_type": "code",
      "execution_count": null,
      "id": "da6ba65a",
      "metadata": {
        "id": "da6ba65a",
        "outputId": "021f7fa2-aeb8-4b7c-bdf5-265f67680621"
      },
      "outputs": [
        {
          "data": {
            "text/plain": [
              "0.7853981633974483"
            ]
          },
          "execution_count": 24,
          "metadata": {},
          "output_type": "execute_result"
        }
      ],
      "source": [
        "#Calling pi form the math libr\n",
        "math.pi/4"
      ]
    },
    {
      "cell_type": "code",
      "execution_count": null,
      "id": "023b560a",
      "metadata": {
        "id": "023b560a"
      },
      "outputs": [],
      "source": [
        "# Using strings\n",
        "\n",
        "a='My name is'\n",
        "b='Thodoros'"
      ]
    },
    {
      "cell_type": "code",
      "execution_count": null,
      "id": "86610c1f",
      "metadata": {
        "id": "86610c1f"
      },
      "outputs": [],
      "source": [
        "c=a + \" \" + b"
      ]
    },
    {
      "cell_type": "code",
      "execution_count": null,
      "id": "49b3a0a2",
      "metadata": {
        "id": "49b3a0a2",
        "outputId": "676472a9-6151-41ad-fdca-6ed669008323"
      },
      "outputs": [
        {
          "data": {
            "text/plain": [
              "'My name is Thodoros'"
            ]
          },
          "execution_count": 27,
          "metadata": {},
          "output_type": "execute_result"
        }
      ],
      "source": [
        "c"
      ]
    },
    {
      "cell_type": "markdown",
      "id": "9269ef93",
      "metadata": {
        "id": "9269ef93"
      },
      "source": [
        "## Operators with Boolean"
      ]
    },
    {
      "cell_type": "markdown",
      "id": "14078471",
      "metadata": {
        "id": "14078471"
      },
      "source": [
        "== \tEqual to\n",
        "\n",
        "\\!= Not equal to\n",
        "\n",
        "\\< \tLess than\n",
        "\n",
        "\\> \tGreater than\n",
        "\n",
        "\\<= \tLess than or equal to\n",
        "\n",
        "\\>= \tGreater than or equal to"
      ]
    },
    {
      "cell_type": "code",
      "execution_count": null,
      "id": "ba028ddc",
      "metadata": {
        "id": "ba028ddc",
        "outputId": "a0662bfe-f0b6-451a-fe73-4b5c5de1bfa8"
      },
      "outputs": [
        {
          "data": {
            "text/plain": [
              "True"
            ]
          },
          "execution_count": 28,
          "metadata": {},
          "output_type": "execute_result"
        }
      ],
      "source": [
        "5>4"
      ]
    },
    {
      "cell_type": "code",
      "execution_count": null,
      "id": "beee65a2",
      "metadata": {
        "id": "beee65a2",
        "outputId": "149e191b-f7f4-4162-91fb-3cf471e27183"
      },
      "outputs": [
        {
          "data": {
            "text/plain": [
              "False"
            ]
          },
          "execution_count": 29,
          "metadata": {},
          "output_type": "execute_result"
        }
      ],
      "source": [
        "3==4"
      ]
    },
    {
      "cell_type": "code",
      "execution_count": null,
      "id": "09d26bca",
      "metadata": {
        "id": "09d26bca",
        "outputId": "d69c3f65-1913-4dd4-d4f2-f30b0944df35"
      },
      "outputs": [
        {
          "data": {
            "text/plain": [
              "False"
            ]
          },
          "execution_count": 30,
          "metadata": {},
          "output_type": "execute_result"
        }
      ],
      "source": [
        "5<=3"
      ]
    },
    {
      "cell_type": "code",
      "execution_count": null,
      "id": "b58447ff",
      "metadata": {
        "id": "b58447ff"
      },
      "outputs": [],
      "source": [
        "a=6<5"
      ]
    },
    {
      "cell_type": "code",
      "execution_count": null,
      "id": "af52ee48",
      "metadata": {
        "id": "af52ee48",
        "outputId": "bdfc98bb-fdaa-49b4-9a2c-b255cc2887b4"
      },
      "outputs": [
        {
          "data": {
            "text/plain": [
              "False"
            ]
          },
          "execution_count": 32,
          "metadata": {},
          "output_type": "execute_result"
        }
      ],
      "source": [
        "a"
      ]
    },
    {
      "cell_type": "code",
      "execution_count": null,
      "id": "c990ad57",
      "metadata": {
        "id": "c990ad57"
      },
      "outputs": [],
      "source": [
        "b=6>5"
      ]
    },
    {
      "cell_type": "code",
      "execution_count": null,
      "id": "03766c1c",
      "metadata": {
        "id": "03766c1c",
        "outputId": "be384a0d-b658-40dc-f779-8e0cb2a44c17"
      },
      "outputs": [
        {
          "data": {
            "text/plain": [
              "True"
            ]
          },
          "execution_count": 34,
          "metadata": {},
          "output_type": "execute_result"
        }
      ],
      "source": [
        "b"
      ]
    }
  ],
  "metadata": {
    "kernelspec": {
      "display_name": "Python 3 (ipykernel)",
      "language": "python",
      "name": "python3"
    },
    "language_info": {
      "codemirror_mode": {
        "name": "ipython",
        "version": 3
      },
      "file_extension": ".py",
      "mimetype": "text/x-python",
      "name": "python",
      "nbconvert_exporter": "python",
      "pygments_lexer": "ipython3",
      "version": "3.11.7"
    },
    "colab": {
      "provenance": [],
      "include_colab_link": true
    }
  },
  "nbformat": 4,
  "nbformat_minor": 5
}